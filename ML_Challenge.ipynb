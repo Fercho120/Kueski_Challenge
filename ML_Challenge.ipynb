{
 "cells": [
  {
   "cell_type": "code",
   "execution_count": 1,
   "id": "827d8ef0-cd78-42fa-af27-62a020a51bfc",
   "metadata": {},
   "outputs": [],
   "source": [
    "import sys\n",
    "import pandas as pd\n",
    "import sqlite3 as sql\n",
    "from pyspark.sql import SparkSession\n",
    "from pyspark.sql.types import StringType, IntegerType, FloatType, DoubleType, StructType, StructField\n",
    "from pyspark.sql.functions import to_date, rank, col, mean, datediff, current_date\n",
    "from pyspark.sql.window import Window\n",
    "spark = SparkSession.builder.appName('ML_Challenge').getOrCreate()\n",
    "\n",
    "schema = StructType([StructField('loan_id', IntegerType(), True),\n",
    "                     StructField('id', IntegerType(), True),\n",
    "                     StructField('code_gender', StringType(), True),\n",
    "                     StructField('flag_own_car', StringType(), True),\n",
    "                     StructField('flag_own_realty', StringType(), True),\n",
    "                     StructField('cnt_children', IntegerType(), True),\n",
    "                     StructField('amt_income_total', FloatType(), True),\n",
    "                     StructField('name_income_type', StringType(), True),\n",
    "                     StructField('name_education_type', StringType(), True),\n",
    "                     StructField('name_family_status', StringType(), True),\n",
    "                     StructField('name_housing_type', StringType(), True),\n",
    "                     StructField('days_birth', IntegerType(), True),\n",
    "                     StructField('days_employed', IntegerType(), True),\n",
    "                     StructField('flag_mobil', IntegerType(), True),\n",
    "                     StructField('flag_work_phone', IntegerType(), True),\n",
    "                     StructField('flag_phone', IntegerType(), True),\n",
    "                     StructField('flag_email', IntegerType(), True),\n",
    "                     StructField('occupation_type', StringType(), True),\n",
    "                     StructField('cnt_fam_members', FloatType(), True),\n",
    "                     StructField('status', IntegerType(), True),\n",
    "                     StructField('birthday', StringType(), True),\n",
    "                     StructField('job_start_date', StringType(), True),\n",
    "                     StructField('loan_date', StringType(), True),\n",
    "                     StructField('loan_amount', DoubleType(), True)])\n",
    "\n",
    "df = spark.read.option(\"sep\", \",\").option(\"header\", True).schema(schema).csv(\"dataset_credit_risk.csv\")"
   ]
  },
  {
   "cell_type": "code",
   "execution_count": 2,
   "id": "b04b3666-dd96-4bb3-a661-899fd29254a2",
   "metadata": {},
   "outputs": [
    {
     "name": "stdout",
     "output_type": "stream",
     "text": [
      "(777715, 24)\n"
     ]
    }
   ],
   "source": [
    "print((df.count(), len(df.columns)))"
   ]
  },
  {
   "cell_type": "code",
   "execution_count": 3,
   "id": "26a0209c-9538-4cb4-a704-a17dcd34442b",
   "metadata": {},
   "outputs": [],
   "source": [
    "df = df.withColumn(\"loan_date\", to_date(df.loan_date, 'yyyy-MM-dd'))\n",
    "df = df.orderBy(\"id\", \"loan_date\")"
   ]
  },
  {
   "cell_type": "code",
   "execution_count": 4,
   "id": "7bdd7140-2467-4b82-9c5a-d3edb4d08bcd",
   "metadata": {},
   "outputs": [],
   "source": [
    "# Feature nb_previous_loans\n",
    "df = df.withColumn(\"nb_previous_loans\", (rank().over(Window.partitionBy(\"id\").orderBy(\"loan_date\"))) - 1)"
   ]
  },
  {
   "cell_type": "code",
   "execution_count": 5,
   "id": "4437662f-f6c8-45e2-94d9-c771da390243",
   "metadata": {},
   "outputs": [],
   "source": [
    "# Feature avg_amount_loans_previous\n",
    "df = df.withColumn('avg_amount_loans_previous', mean(df.loan_amount).over(Window.partitionBy('id').orderBy(\"loan_date\").rowsBetween(-sys.maxsize, 0)))"
   ]
  },
  {
   "cell_type": "code",
   "execution_count": 6,
   "id": "56b9ca4e-a21a-4e7e-bdb0-f0beb234f472",
   "metadata": {},
   "outputs": [],
   "source": [
    "# Feature age\n",
    "df = df.withColumn('birthday', to_date(df.birthday, 'yyyy-MM-dd'))\n",
    "df = df.withColumn('age', (datediff(current_date(), df.birthday) / 365).cast('int'))"
   ]
  },
  {
   "cell_type": "code",
   "execution_count": 7,
   "id": "ed3eee43-4c12-4cc5-9ccf-2a09178fb650",
   "metadata": {},
   "outputs": [],
   "source": [
    "# Feature years_on_the_job\n",
    "df = df.withColumn('job_start_date', to_date(df.job_start_date, 'yyyy-MM-dd'))\n",
    "df = df.withColumn('years_on_the_job', (datediff(current_date(), df.job_start_date) / 365).cast('int'))"
   ]
  },
  {
   "cell_type": "code",
   "execution_count": 8,
   "id": "692725f7-c9ce-4db0-8527-2225b2f8da66",
   "metadata": {},
   "outputs": [],
   "source": [
    "# Feature flag_own_car\n",
    "df = df.na.replace(['N', 'Y'], ['0', '1'], 'flag_own_car')\n",
    "df = df.withColumn('flag_own_car', df[\"flag_own_car\"].cast(IntegerType()))"
   ]
  },
  {
   "cell_type": "code",
   "execution_count": 9,
   "id": "b8ca8edf-8e40-4e9a-97f8-5831e91a7451",
   "metadata": {},
   "outputs": [],
   "source": [
    "# Save dataset for model training\n",
    "features = df[['id', 'age', 'years_on_the_job', 'nb_previous_loans', 'avg_amount_loans_previous', 'flag_own_car', 'status']]\n",
    "features.toPandas().to_csv('train_model.csv', index=False)"
   ]
  },
  {
   "cell_type": "code",
   "execution_count": 10,
   "id": "82732fce-3ee0-4b7b-afbe-c8cdc28f94e2",
   "metadata": {},
   "outputs": [
    {
     "name": "stdout",
     "output_type": "stream",
     "text": [
      "(777715, 7)\n"
     ]
    }
   ],
   "source": [
    "print((features.count(), len(features.columns)))"
   ]
  },
  {
   "cell_type": "code",
   "execution_count": 11,
   "id": "9c828f50-8fd7-49fd-8b17-6725fa2cfe97",
   "metadata": {},
   "outputs": [
    {
     "data": {
      "text/html": [
       "<div>\n",
       "<style scoped>\n",
       "    .dataframe tbody tr th:only-of-type {\n",
       "        vertical-align: middle;\n",
       "    }\n",
       "\n",
       "    .dataframe tbody tr th {\n",
       "        vertical-align: top;\n",
       "    }\n",
       "\n",
       "    .dataframe thead th {\n",
       "        text-align: right;\n",
       "    }\n",
       "</style>\n",
       "<table border=\"1\" class=\"dataframe\">\n",
       "  <thead>\n",
       "    <tr style=\"text-align: right;\">\n",
       "      <th></th>\n",
       "      <th>id</th>\n",
       "      <th>age</th>\n",
       "      <th>years_on_the_job</th>\n",
       "      <th>nb_previous_loans</th>\n",
       "      <th>avg_amount_loans_previous</th>\n",
       "      <th>flag_own_car</th>\n",
       "      <th>status</th>\n",
       "    </tr>\n",
       "  </thead>\n",
       "  <tbody>\n",
       "    <tr>\n",
       "      <th>424453</th>\n",
       "      <td>5008804</td>\n",
       "      <td>33</td>\n",
       "      <td>12</td>\n",
       "      <td>15</td>\n",
       "      <td>128.735464</td>\n",
       "      <td>1</td>\n",
       "      <td>0</td>\n",
       "    </tr>\n",
       "    <tr>\n",
       "      <th>486436</th>\n",
       "      <td>5008805</td>\n",
       "      <td>33</td>\n",
       "      <td>12</td>\n",
       "      <td>14</td>\n",
       "      <td>125.566303</td>\n",
       "      <td>1</td>\n",
       "      <td>0</td>\n",
       "    </tr>\n",
       "    <tr>\n",
       "      <th>61480</th>\n",
       "      <td>5008806</td>\n",
       "      <td>59</td>\n",
       "      <td>3</td>\n",
       "      <td>29</td>\n",
       "      <td>135.770224</td>\n",
       "      <td>1</td>\n",
       "      <td>0</td>\n",
       "    </tr>\n",
       "    <tr>\n",
       "      <th>300766</th>\n",
       "      <td>5008808</td>\n",
       "      <td>52</td>\n",
       "      <td>8</td>\n",
       "      <td>4</td>\n",
       "      <td>125.477994</td>\n",
       "      <td>0</td>\n",
       "      <td>0</td>\n",
       "    </tr>\n",
       "    <tr>\n",
       "      <th>300771</th>\n",
       "      <td>5008809</td>\n",
       "      <td>52</td>\n",
       "      <td>8</td>\n",
       "      <td>4</td>\n",
       "      <td>111.980052</td>\n",
       "      <td>0</td>\n",
       "      <td>0</td>\n",
       "    </tr>\n",
       "    <tr>\n",
       "      <th>...</th>\n",
       "      <td>...</td>\n",
       "      <td>...</td>\n",
       "      <td>...</td>\n",
       "      <td>...</td>\n",
       "      <td>...</td>\n",
       "      <td>...</td>\n",
       "      <td>...</td>\n",
       "    </tr>\n",
       "    <tr>\n",
       "      <th>424437</th>\n",
       "      <td>5150482</td>\n",
       "      <td>30</td>\n",
       "      <td>5</td>\n",
       "      <td>17</td>\n",
       "      <td>120.127777</td>\n",
       "      <td>1</td>\n",
       "      <td>0</td>\n",
       "    </tr>\n",
       "    <tr>\n",
       "      <th>181150</th>\n",
       "      <td>5150483</td>\n",
       "      <td>30</td>\n",
       "      <td>5</td>\n",
       "      <td>17</td>\n",
       "      <td>139.249856</td>\n",
       "      <td>1</td>\n",
       "      <td>0</td>\n",
       "    </tr>\n",
       "    <tr>\n",
       "      <th>777714</th>\n",
       "      <td>5150484</td>\n",
       "      <td>30</td>\n",
       "      <td>5</td>\n",
       "      <td>12</td>\n",
       "      <td>123.944622</td>\n",
       "      <td>1</td>\n",
       "      <td>0</td>\n",
       "    </tr>\n",
       "    <tr>\n",
       "      <th>120584</th>\n",
       "      <td>5150485</td>\n",
       "      <td>30</td>\n",
       "      <td>5</td>\n",
       "      <td>1</td>\n",
       "      <td>123.102183</td>\n",
       "      <td>1</td>\n",
       "      <td>0</td>\n",
       "    </tr>\n",
       "    <tr>\n",
       "      <th>486421</th>\n",
       "      <td>5150487</td>\n",
       "      <td>53</td>\n",
       "      <td>6</td>\n",
       "      <td>29</td>\n",
       "      <td>129.049880</td>\n",
       "      <td>1</td>\n",
       "      <td>0</td>\n",
       "    </tr>\n",
       "  </tbody>\n",
       "</table>\n",
       "<p>36457 rows × 7 columns</p>\n",
       "</div>"
      ],
      "text/plain": [
       "             id  age  years_on_the_job  nb_previous_loans  \\\n",
       "424453  5008804   33                12                 15   \n",
       "486436  5008805   33                12                 14   \n",
       "61480   5008806   59                 3                 29   \n",
       "300766  5008808   52                 8                  4   \n",
       "300771  5008809   52                 8                  4   \n",
       "...         ...  ...               ...                ...   \n",
       "424437  5150482   30                 5                 17   \n",
       "181150  5150483   30                 5                 17   \n",
       "777714  5150484   30                 5                 12   \n",
       "120584  5150485   30                 5                  1   \n",
       "486421  5150487   53                 6                 29   \n",
       "\n",
       "        avg_amount_loans_previous  flag_own_car  status  \n",
       "424453                 128.735464             1       0  \n",
       "486436                 125.566303             1       0  \n",
       "61480                  135.770224             1       0  \n",
       "300766                 125.477994             0       0  \n",
       "300771                 111.980052             0       0  \n",
       "...                           ...           ...     ...  \n",
       "424437                 120.127777             1       0  \n",
       "181150                 139.249856             1       0  \n",
       "777714                 123.944622             1       0  \n",
       "120584                 123.102183             1       0  \n",
       "486421                 129.049880             1       0  \n",
       "\n",
       "[36457 rows x 7 columns]"
      ]
     },
     "metadata": {},
     "output_type": "display_data"
    }
   ],
   "source": [
    "features = pd.read_csv('train_model.csv')\n",
    "#features = features.drop(\"status\", axis=1)\n",
    "#Filtering records by the most recent (the row with the higer n of previous loans per id\n",
    "filtered = features.loc[features.reset_index().groupby(['id'])['nb_previous_loans'].idxmax()]\n",
    "display(filtered)"
   ]
  },
  {
   "cell_type": "code",
   "execution_count": 14,
   "id": "f80c9213-f9a9-400e-ad88-fb185cf42278",
   "metadata": {},
   "outputs": [],
   "source": [
    "conn = sql.connect('features.db')\n",
    "filtered.to_sql('features', conn, if_exists='replace')"
   ]
  },
  {
   "cell_type": "code",
   "execution_count": null,
   "id": "aee4cf88-3ee2-41e9-8aac-3fc72388be96",
   "metadata": {},
   "outputs": [],
   "source": []
  },
  {
   "cell_type": "code",
   "execution_count": null,
   "id": "57ca5757-8044-457f-930c-23eca8739b0a",
   "metadata": {},
   "outputs": [],
   "source": []
  }
 ],
 "metadata": {
  "kernelspec": {
   "display_name": "Python 3 (ipykernel)",
   "language": "python",
   "name": "python3"
  },
  "language_info": {
   "codemirror_mode": {
    "name": "ipython",
    "version": 3
   },
   "file_extension": ".py",
   "mimetype": "text/x-python",
   "name": "python",
   "nbconvert_exporter": "python",
   "pygments_lexer": "ipython3",
   "version": "3.9.7"
  }
 },
 "nbformat": 4,
 "nbformat_minor": 5
}
