{
 "cells": [
  {
   "cell_type": "markdown",
   "id": "86aa92e4",
   "metadata": {},
   "source": [
    "# MLE challenge - Features engineering"
   ]
  },
  {
   "cell_type": "markdown",
   "id": "97797e24",
   "metadata": {},
   "source": [
    "### Notebook 1"
   ]
  },
  {
   "cell_type": "markdown",
   "id": "8331a455",
   "metadata": {},
   "source": [
    "In this notebook we compute five features for the **credit risk** dataset. \n",
    "Each row in the dataset consists of the credit that a user took on a given date.\n",
    "\n",
    "These features are roughly defined as follows:\n",
    "\n",
    "**nb_previous_loans:** number of loans granted to a given user, before the current loan.\n",
    "\n",
    "**avg_amount_loans_previous:** average amount of loans granted to a user, before the current rating.\n",
    "\n",
    "**age:** user age in years.\n",
    "\n",
    "**years_on_the_job:** years the user has been in employment.\n",
    "\n",
    "**flag_own_car:** flag that indicates if the user has his own car.\n",
    "\n",
    "We have the following problem: the feature `avg_amount_loans_previous` takes just too long to be computed for all the rows of the dataset (at least the way it's implemented).\n",
    "\n",
    "\n"
   ]
  },
  {
   "cell_type": "code",
   "execution_count": null,
   "id": "1972e258",
   "metadata": {},
   "outputs": [],
   "source": [
    "import pandas as pd"
   ]
  },
  {
   "cell_type": "code",
   "execution_count": null,
   "id": "1eaf984f",
   "metadata": {},
   "outputs": [],
   "source": [
    "df = pd.read_csv('dataset_credit_risk.csv')"
   ]
  },
  {
   "cell_type": "code",
   "execution_count": null,
   "id": "91f346ce",
   "metadata": {},
   "outputs": [],
   "source": [
    "df.shape"
   ]
  },
  {
   "cell_type": "code",
   "execution_count": null,
   "id": "65380f2f",
   "metadata": {},
   "outputs": [],
   "source": [
    "df.head()"
   ]
  },
  {
   "cell_type": "code",
   "execution_count": null,
   "id": "355a0331",
   "metadata": {
    "scrolled": true
   },
   "outputs": [],
   "source": [
    "df = df.sort_values(by=[\"id\", \"loan_date\"])\n",
    "df = df.reset_index(drop=True)\n",
    "df[\"loan_date\"] = pd.to_datetime(df.loan_date)\n",
    "df"
   ]
  },
  {
   "cell_type": "markdown",
   "id": "4e25b5cd",
   "metadata": {},
   "source": [
    "#### Feature nb_previous_loans"
   ]
  },
  {
   "cell_type": "code",
   "execution_count": null,
   "id": "a52083be",
   "metadata": {},
   "outputs": [],
   "source": [
    "df_grouped = df.groupby(\"id\")\n",
    "df[\"nb_previous_loans\"] = df_grouped[\"loan_date\"].rank(method=\"first\") - 1"
   ]
  },
  {
   "cell_type": "markdown",
   "id": "be778c3a",
   "metadata": {},
   "source": [
    "#### Feature avg_amount_loans_previous"
   ]
  },
  {
   "cell_type": "code",
   "execution_count": null,
   "id": "87a14b65",
   "metadata": {},
   "outputs": [],
   "source": [
    "def avg_amount_loans_prev(df):\n",
    "    avg = pd.Series(index=df.index)\n",
    "    for i in df.index:\n",
    "        df_aux = df.loc[df.loan_date < df.loan_date.loc[i], :]\n",
    "        avg.at[i] = df_aux.loan_amount.mean()\n",
    "    return avg"
   ]
  },
  {
   "cell_type": "code",
   "execution_count": null,
   "id": "003c708c",
   "metadata": {},
   "outputs": [],
   "source": [
    "avg_amount_loans_previous = pd.Series()\n",
    "# the following cycle is the one that takes forever if we try to compute it for the whole dataset\n",
    "for user in df.id.unique():\n",
    "    df_user = df.loc[df.id == user, :]\n",
    "    avg_amount_loans_previous = avg_amount_loans_previous.append(avg_amount_loans_prev(df_user))"
   ]
  },
  {
   "cell_type": "code",
   "execution_count": null,
   "id": "9657a8ff",
   "metadata": {},
   "outputs": [],
   "source": [
    "df[\"avg_amount_loans_previous\"] = avg_amount_loans_previous"
   ]
  },
  {
   "cell_type": "markdown",
   "id": "e2e743fb",
   "metadata": {},
   "source": [
    "#### Feature age"
   ]
  },
  {
   "cell_type": "code",
   "execution_count": null,
   "id": "a6433fee",
   "metadata": {},
   "outputs": [],
   "source": [
    "from datetime import datetime, date"
   ]
  },
  {
   "cell_type": "code",
   "execution_count": null,
   "id": "2d5ee386",
   "metadata": {},
   "outputs": [],
   "source": [
    "df['birthday'] = pd.to_datetime(df['birthday'], errors='coerce')\n"
   ]
  },
  {
   "cell_type": "code",
   "execution_count": null,
   "id": "4a2628da",
   "metadata": {
    "scrolled": true
   },
   "outputs": [],
   "source": [
    "df['age'] = (pd.to_datetime('today').normalize() - df['birthday']).dt.days // 365"
   ]
  },
  {
   "cell_type": "markdown",
   "id": "b358b9e1",
   "metadata": {},
   "source": [
    "#### Feature years_on_the_job"
   ]
  },
  {
   "cell_type": "code",
   "execution_count": null,
   "id": "c655109b",
   "metadata": {},
   "outputs": [],
   "source": [
    "df['job_start_date'] = pd.to_datetime(df['job_start_date'], errors='coerce')"
   ]
  },
  {
   "cell_type": "code",
   "execution_count": null,
   "id": "a04d6133",
   "metadata": {},
   "outputs": [],
   "source": [
    "df['years_on_the_job'] = (pd.to_datetime('today').normalize() - df['job_start_date']).dt.days // 365"
   ]
  },
  {
   "cell_type": "markdown",
   "id": "e058043b",
   "metadata": {},
   "source": [
    "#### Feature flag_own_car"
   ]
  },
  {
   "cell_type": "code",
   "execution_count": null,
   "id": "8469bffe",
   "metadata": {},
   "outputs": [],
   "source": [
    "df['flag_own_car'] = df.flag_own_car.apply(lambda x : 0 if x == 'N' else 1)"
   ]
  },
  {
   "cell_type": "markdown",
   "id": "6213c289",
   "metadata": {},
   "source": [
    "## Save dataset for model training"
   ]
  },
  {
   "cell_type": "code",
   "execution_count": null,
   "id": "1f4d8b46",
   "metadata": {},
   "outputs": [],
   "source": [
    "df = df[['id', 'age', 'years_on_the_job', 'nb_previous_loans', 'avg_amount_loans_previous', 'flag_own_car', 'status']]\n"
   ]
  },
  {
   "cell_type": "code",
   "execution_count": null,
   "id": "46a14cc8",
   "metadata": {},
   "outputs": [],
   "source": [
    "df.to_csv('train_model.csv', index=False)"
   ]
  }
 ],
 "metadata": {
  "kernelspec": {
   "display_name": "Python 3 (ipykernel)",
   "language": "python",
   "name": "python3"
  },
  "language_info": {
   "codemirror_mode": {
    "name": "ipython",
    "version": 3
   },
   "file_extension": ".py",
   "mimetype": "text/x-python",
   "name": "python",
   "nbconvert_exporter": "python",
   "pygments_lexer": "ipython3",
   "version": "3.9.6"
  }
 },
 "nbformat": 4,
 "nbformat_minor": 5
}
