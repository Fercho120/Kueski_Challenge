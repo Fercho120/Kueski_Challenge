{
 "cells": [
  {
   "cell_type": "markdown",
   "id": "8fa07a4f",
   "metadata": {},
   "source": [
    "# MLE challenge - Train model notebook"
   ]
  },
  {
   "cell_type": "markdown",
   "id": "8c09cfde",
   "metadata": {},
   "source": [
    "### Notebook 2"
   ]
  },
  {
   "cell_type": "markdown",
   "id": "b8c189b6",
   "metadata": {},
   "source": [
    "In this notebook, we train the model with a few features (for reasons of time and complexity in solving the challenge). It also shows how to persist the model in a file, load it into memory and then make a predict.\n",
    "\n"
   ]
  },
  {
   "cell_type": "code",
   "execution_count": 97,
   "id": "b6ff383b",
   "metadata": {},
   "outputs": [],
   "source": [
    "import pandas as pd\n",
    "\n",
    "import matplotlib.pyplot as plt\n",
    "%matplotlib inline\n",
    "\n",
    "from imblearn.over_sampling import SMOTE\n",
    "from sklearn.model_selection import train_test_split\n",
    "from sklearn.metrics import (\n",
    "    accuracy_score, confusion_matrix, recall_score, \n",
    "    plot_confusion_matrix, precision_score, plot_roc_curve\n",
    ")\n",
    "\n",
    "from sklearn.ensemble import RandomForestClassifier"
   ]
  },
  {
   "cell_type": "markdown",
   "id": "01bc180c",
   "metadata": {},
   "source": [
    "#### Read dataset"
   ]
  },
  {
   "cell_type": "code",
   "execution_count": 98,
   "id": "c31ed055",
   "metadata": {},
   "outputs": [],
   "source": [
    "df = pd.read_csv('train_model.csv')"
   ]
  },
  {
   "cell_type": "code",
   "execution_count": 99,
   "id": "cb449ae8",
   "metadata": {
    "scrolled": false
   },
   "outputs": [
    {
     "data": {
      "text/html": [
       "<div>\n",
       "<style scoped>\n",
       "    .dataframe tbody tr th:only-of-type {\n",
       "        vertical-align: middle;\n",
       "    }\n",
       "\n",
       "    .dataframe tbody tr th {\n",
       "        vertical-align: top;\n",
       "    }\n",
       "\n",
       "    .dataframe thead th {\n",
       "        text-align: right;\n",
       "    }\n",
       "</style>\n",
       "<table border=\"1\" class=\"dataframe\">\n",
       "  <thead>\n",
       "    <tr style=\"text-align: right;\">\n",
       "      <th></th>\n",
       "      <th>id</th>\n",
       "      <th>age</th>\n",
       "      <th>years_on_the_job</th>\n",
       "      <th>nb_previous_loans</th>\n",
       "      <th>avg_amount_loans_previous</th>\n",
       "      <th>flag_own_car</th>\n",
       "      <th>status</th>\n",
       "    </tr>\n",
       "  </thead>\n",
       "  <tbody>\n",
       "    <tr>\n",
       "      <th>0</th>\n",
       "      <td>5008814</td>\n",
       "      <td>61</td>\n",
       "      <td>-1000</td>\n",
       "      <td>0</td>\n",
       "      <td>108.687047</td>\n",
       "      <td>0</td>\n",
       "      <td>0</td>\n",
       "    </tr>\n",
       "    <tr>\n",
       "      <th>1</th>\n",
       "      <td>5008814</td>\n",
       "      <td>61</td>\n",
       "      <td>-1000</td>\n",
       "      <td>1</td>\n",
       "      <td>105.141663</td>\n",
       "      <td>0</td>\n",
       "      <td>0</td>\n",
       "    </tr>\n",
       "    <tr>\n",
       "      <th>2</th>\n",
       "      <td>5008814</td>\n",
       "      <td>61</td>\n",
       "      <td>-1000</td>\n",
       "      <td>2</td>\n",
       "      <td>103.932416</td>\n",
       "      <td>0</td>\n",
       "      <td>0</td>\n",
       "    </tr>\n",
       "    <tr>\n",
       "      <th>3</th>\n",
       "      <td>5008814</td>\n",
       "      <td>61</td>\n",
       "      <td>-1000</td>\n",
       "      <td>3</td>\n",
       "      <td>104.658406</td>\n",
       "      <td>0</td>\n",
       "      <td>0</td>\n",
       "    </tr>\n",
       "    <tr>\n",
       "      <th>4</th>\n",
       "      <td>5008814</td>\n",
       "      <td>61</td>\n",
       "      <td>-1000</td>\n",
       "      <td>4</td>\n",
       "      <td>108.677355</td>\n",
       "      <td>0</td>\n",
       "      <td>0</td>\n",
       "    </tr>\n",
       "  </tbody>\n",
       "</table>\n",
       "</div>"
      ],
      "text/plain": [
       "        id  age  years_on_the_job  nb_previous_loans  \\\n",
       "0  5008814   61             -1000                  0   \n",
       "1  5008814   61             -1000                  1   \n",
       "2  5008814   61             -1000                  2   \n",
       "3  5008814   61             -1000                  3   \n",
       "4  5008814   61             -1000                  4   \n",
       "\n",
       "   avg_amount_loans_previous  flag_own_car  status  \n",
       "0                 108.687047             0       0  \n",
       "1                 105.141663             0       0  \n",
       "2                 103.932416             0       0  \n",
       "3                 104.658406             0       0  \n",
       "4                 108.677355             0       0  "
      ]
     },
     "execution_count": 99,
     "metadata": {},
     "output_type": "execute_result"
    }
   ],
   "source": [
    "df.head()"
   ]
  },
  {
   "cell_type": "code",
   "execution_count": 100,
   "id": "e15b7502",
   "metadata": {},
   "outputs": [
    {
     "data": {
      "text/plain": [
       "id                             int64\n",
       "age                            int64\n",
       "years_on_the_job               int64\n",
       "nb_previous_loans              int64\n",
       "avg_amount_loans_previous    float64\n",
       "flag_own_car                   int64\n",
       "status                         int64\n",
       "dtype: object"
      ]
     },
     "execution_count": 100,
     "metadata": {},
     "output_type": "execute_result"
    }
   ],
   "source": [
    "df.dtypes"
   ]
  },
  {
   "cell_type": "code",
   "execution_count": 101,
   "id": "06c6c8cb",
   "metadata": {},
   "outputs": [
    {
     "data": {
      "text/plain": [
       "<AxesSubplot:>"
      ]
     },
     "execution_count": 101,
     "metadata": {},
     "output_type": "execute_result"
    },
    {
     "data": {
      "image/png": "[encoded data removed]",
      "text/plain": [
       "<Figure size 432x288 with 1 Axes>"
      ]
     },
     "metadata": {
      "needs_background": "light"
     },
     "output_type": "display_data"
    }
   ],
   "source": [
    "df.status.hist()"
   ]
  },
  {
   "cell_type": "code",
   "execution_count": 102,
   "id": "cc3f51e7",
   "metadata": {},
   "outputs": [],
   "source": [
    "cust_df = df.copy()"
   ]
  },
  {
   "cell_type": "code",
   "execution_count": 103,
   "id": "4c560dc4",
   "metadata": {},
   "outputs": [],
   "source": [
    "cust_df.fillna(0, inplace=True)"
   ]
  },
  {
   "cell_type": "markdown",
   "id": "baa51909",
   "metadata": {},
   "source": [
    "## Train model"
   ]
  },
  {
   "cell_type": "code",
   "execution_count": 104,
   "id": "61545063",
   "metadata": {},
   "outputs": [],
   "source": [
    "Y = cust_df['status']\n",
    "\n",
    "cust_df.drop(['id', 'status'], axis=1, inplace=True)\n",
    "\n",
    "X = cust_df"
   ]
  },
  {
   "cell_type": "code",
   "execution_count": 105,
   "id": "c2c63188",
   "metadata": {},
   "outputs": [
    {
     "data": {
      "text/html": [
       "<div>\n",
       "<style scoped>\n",
       "    .dataframe tbody tr th:only-of-type {\n",
       "        vertical-align: middle;\n",
       "    }\n",
       "\n",
       "    .dataframe tbody tr th {\n",
       "        vertical-align: top;\n",
       "    }\n",
       "\n",
       "    .dataframe thead th {\n",
       "        text-align: right;\n",
       "    }\n",
       "</style>\n",
       "<table border=\"1\" class=\"dataframe\">\n",
       "  <thead>\n",
       "    <tr style=\"text-align: right;\">\n",
       "      <th></th>\n",
       "      <th>age</th>\n",
       "      <th>years_on_the_job</th>\n",
       "      <th>nb_previous_loans</th>\n",
       "      <th>avg_amount_loans_previous</th>\n",
       "      <th>flag_own_car</th>\n",
       "    </tr>\n",
       "  </thead>\n",
       "  <tbody>\n",
       "    <tr>\n",
       "      <th>0</th>\n",
       "      <td>61</td>\n",
       "      <td>-1000</td>\n",
       "      <td>0</td>\n",
       "      <td>108.687047</td>\n",
       "      <td>0</td>\n",
       "    </tr>\n",
       "    <tr>\n",
       "      <th>1</th>\n",
       "      <td>61</td>\n",
       "      <td>-1000</td>\n",
       "      <td>1</td>\n",
       "      <td>105.141663</td>\n",
       "      <td>0</td>\n",
       "    </tr>\n",
       "    <tr>\n",
       "      <th>2</th>\n",
       "      <td>61</td>\n",
       "      <td>-1000</td>\n",
       "      <td>2</td>\n",
       "      <td>103.932416</td>\n",
       "      <td>0</td>\n",
       "    </tr>\n",
       "    <tr>\n",
       "      <th>3</th>\n",
       "      <td>61</td>\n",
       "      <td>-1000</td>\n",
       "      <td>3</td>\n",
       "      <td>104.658406</td>\n",
       "      <td>0</td>\n",
       "    </tr>\n",
       "    <tr>\n",
       "      <th>4</th>\n",
       "      <td>61</td>\n",
       "      <td>-1000</td>\n",
       "      <td>4</td>\n",
       "      <td>108.677355</td>\n",
       "      <td>0</td>\n",
       "    </tr>\n",
       "    <tr>\n",
       "      <th>...</th>\n",
       "      <td>...</td>\n",
       "      <td>...</td>\n",
       "      <td>...</td>\n",
       "      <td>...</td>\n",
       "      <td>...</td>\n",
       "    </tr>\n",
       "    <tr>\n",
       "      <th>777710</th>\n",
       "      <td>30</td>\n",
       "      <td>5</td>\n",
       "      <td>8</td>\n",
       "      <td>120.927832</td>\n",
       "      <td>1</td>\n",
       "    </tr>\n",
       "    <tr>\n",
       "      <th>777711</th>\n",
       "      <td>30</td>\n",
       "      <td>5</td>\n",
       "      <td>9</td>\n",
       "      <td>121.888023</td>\n",
       "      <td>1</td>\n",
       "    </tr>\n",
       "    <tr>\n",
       "      <th>777712</th>\n",
       "      <td>30</td>\n",
       "      <td>5</td>\n",
       "      <td>10</td>\n",
       "      <td>124.837926</td>\n",
       "      <td>1</td>\n",
       "    </tr>\n",
       "    <tr>\n",
       "      <th>777713</th>\n",
       "      <td>30</td>\n",
       "      <td>5</td>\n",
       "      <td>11</td>\n",
       "      <td>123.916797</td>\n",
       "      <td>1</td>\n",
       "    </tr>\n",
       "    <tr>\n",
       "      <th>777714</th>\n",
       "      <td>30</td>\n",
       "      <td>5</td>\n",
       "      <td>12</td>\n",
       "      <td>123.944622</td>\n",
       "      <td>1</td>\n",
       "    </tr>\n",
       "  </tbody>\n",
       "</table>\n",
       "<p>777715 rows × 5 columns</p>\n",
       "</div>"
      ],
      "text/plain": [
       "        age  years_on_the_job  nb_previous_loans  avg_amount_loans_previous  \\\n",
       "0        61             -1000                  0                 108.687047   \n",
       "1        61             -1000                  1                 105.141663   \n",
       "2        61             -1000                  2                 103.932416   \n",
       "3        61             -1000                  3                 104.658406   \n",
       "4        61             -1000                  4                 108.677355   \n",
       "...     ...               ...                ...                        ...   \n",
       "777710   30                 5                  8                 120.927832   \n",
       "777711   30                 5                  9                 121.888023   \n",
       "777712   30                 5                 10                 124.837926   \n",
       "777713   30                 5                 11                 123.916797   \n",
       "777714   30                 5                 12                 123.944622   \n",
       "\n",
       "        flag_own_car  \n",
       "0                  0  \n",
       "1                  0  \n",
       "2                  0  \n",
       "3                  0  \n",
       "4                  0  \n",
       "...              ...  \n",
       "777710             1  \n",
       "777711             1  \n",
       "777712             1  \n",
       "777713             1  \n",
       "777714             1  \n",
       "\n",
       "[777715 rows x 5 columns]"
      ]
     },
     "metadata": {},
     "output_type": "display_data"
    }
   ],
   "source": [
    "display(X)"
   ]
  },
  {
   "cell_type": "code",
   "execution_count": 106,
   "id": "3ee93924",
   "metadata": {},
   "outputs": [
    {
     "data": {
      "text/plain": [
       "0         0\n",
       "1         0\n",
       "2         0\n",
       "3         0\n",
       "4         0\n",
       "         ..\n",
       "777710    0\n",
       "777711    0\n",
       "777712    0\n",
       "777713    0\n",
       "777714    0\n",
       "Name: status, Length: 777715, dtype: int64"
      ]
     },
     "metadata": {},
     "output_type": "display_data"
    }
   ],
   "source": [
    "display(Y)"
   ]
  },
  {
   "cell_type": "code",
   "execution_count": 107,
   "id": "96c11977",
   "metadata": {},
   "outputs": [],
   "source": [
    "# Using Synthetic Minority Over-Sampling Technique(SMOTE) to overcome sample imbalance problem.\n",
    "Y = Y.astype('int')\n",
    "X_balance, Y_balance = SMOTE().fit_resample(X, Y)\n",
    "X_balance = pd.DataFrame(X_balance, columns=X.columns)"
   ]
  },
  {
   "cell_type": "code",
   "execution_count": 108,
   "id": "59b50a84",
   "metadata": {},
   "outputs": [],
   "source": [
    "X_train, X_test, y_train, y_test = train_test_split(X_balance,Y_balance, \n",
    "                                                    stratify=Y_balance, test_size=0.3,\n",
    "                                                    random_state = 123)"
   ]
  },
  {
   "cell_type": "code",
   "execution_count": 109,
   "id": "50de2c5e",
   "metadata": {},
   "outputs": [
    {
     "data": {
      "text/html": [
       "<div>\n",
       "<style scoped>\n",
       "    .dataframe tbody tr th:only-of-type {\n",
       "        vertical-align: middle;\n",
       "    }\n",
       "\n",
       "    .dataframe tbody tr th {\n",
       "        vertical-align: top;\n",
       "    }\n",
       "\n",
       "    .dataframe thead th {\n",
       "        text-align: right;\n",
       "    }\n",
       "</style>\n",
       "<table border=\"1\" class=\"dataframe\">\n",
       "  <thead>\n",
       "    <tr style=\"text-align: right;\">\n",
       "      <th></th>\n",
       "      <th>age</th>\n",
       "      <th>years_on_the_job</th>\n",
       "      <th>nb_previous_loans</th>\n",
       "      <th>avg_amount_loans_previous</th>\n",
       "      <th>flag_own_car</th>\n",
       "    </tr>\n",
       "  </thead>\n",
       "  <tbody>\n",
       "    <tr>\n",
       "      <th>479948</th>\n",
       "      <td>57</td>\n",
       "      <td>13</td>\n",
       "      <td>24</td>\n",
       "      <td>130.358165</td>\n",
       "      <td>1</td>\n",
       "    </tr>\n",
       "    <tr>\n",
       "      <th>1319532</th>\n",
       "      <td>52</td>\n",
       "      <td>8</td>\n",
       "      <td>19</td>\n",
       "      <td>137.179025</td>\n",
       "      <td>0</td>\n",
       "    </tr>\n",
       "    <tr>\n",
       "      <th>425103</th>\n",
       "      <td>55</td>\n",
       "      <td>-1000</td>\n",
       "      <td>21</td>\n",
       "      <td>139.023681</td>\n",
       "      <td>1</td>\n",
       "    </tr>\n",
       "    <tr>\n",
       "      <th>958733</th>\n",
       "      <td>44</td>\n",
       "      <td>1</td>\n",
       "      <td>3</td>\n",
       "      <td>138.701859</td>\n",
       "      <td>1</td>\n",
       "    </tr>\n",
       "    <tr>\n",
       "      <th>242646</th>\n",
       "      <td>60</td>\n",
       "      <td>-1000</td>\n",
       "      <td>20</td>\n",
       "      <td>140.790256</td>\n",
       "      <td>0</td>\n",
       "    </tr>\n",
       "    <tr>\n",
       "      <th>...</th>\n",
       "      <td>...</td>\n",
       "      <td>...</td>\n",
       "      <td>...</td>\n",
       "      <td>...</td>\n",
       "      <td>...</td>\n",
       "    </tr>\n",
       "    <tr>\n",
       "      <th>992221</th>\n",
       "      <td>39</td>\n",
       "      <td>17</td>\n",
       "      <td>3</td>\n",
       "      <td>145.695282</td>\n",
       "      <td>0</td>\n",
       "    </tr>\n",
       "    <tr>\n",
       "      <th>475217</th>\n",
       "      <td>31</td>\n",
       "      <td>5</td>\n",
       "      <td>1</td>\n",
       "      <td>114.580114</td>\n",
       "      <td>1</td>\n",
       "    </tr>\n",
       "    <tr>\n",
       "      <th>1322343</th>\n",
       "      <td>62</td>\n",
       "      <td>-1000</td>\n",
       "      <td>0</td>\n",
       "      <td>116.399397</td>\n",
       "      <td>0</td>\n",
       "    </tr>\n",
       "    <tr>\n",
       "      <th>166013</th>\n",
       "      <td>56</td>\n",
       "      <td>-1000</td>\n",
       "      <td>9</td>\n",
       "      <td>123.708870</td>\n",
       "      <td>0</td>\n",
       "    </tr>\n",
       "    <tr>\n",
       "      <th>87581</th>\n",
       "      <td>56</td>\n",
       "      <td>-1000</td>\n",
       "      <td>1</td>\n",
       "      <td>144.152441</td>\n",
       "      <td>0</td>\n",
       "    </tr>\n",
       "  </tbody>\n",
       "</table>\n",
       "<p>1072596 rows × 5 columns</p>\n",
       "</div>"
      ],
      "text/plain": [
       "         age  years_on_the_job  nb_previous_loans  avg_amount_loans_previous  \\\n",
       "479948    57                13                 24                 130.358165   \n",
       "1319532   52                 8                 19                 137.179025   \n",
       "425103    55             -1000                 21                 139.023681   \n",
       "958733    44                 1                  3                 138.701859   \n",
       "242646    60             -1000                 20                 140.790256   \n",
       "...      ...               ...                ...                        ...   \n",
       "992221    39                17                  3                 145.695282   \n",
       "475217    31                 5                  1                 114.580114   \n",
       "1322343   62             -1000                  0                 116.399397   \n",
       "166013    56             -1000                  9                 123.708870   \n",
       "87581     56             -1000                  1                 144.152441   \n",
       "\n",
       "         flag_own_car  \n",
       "479948              1  \n",
       "1319532             0  \n",
       "425103              1  \n",
       "958733              1  \n",
       "242646              0  \n",
       "...               ...  \n",
       "992221              0  \n",
       "475217              1  \n",
       "1322343             0  \n",
       "166013              0  \n",
       "87581               0  \n",
       "\n",
       "[1072596 rows x 5 columns]"
      ]
     },
     "metadata": {},
     "output_type": "display_data"
    }
   ],
   "source": [
    "display(X_train)"
   ]
  },
  {
   "cell_type": "code",
   "execution_count": 110,
   "id": "46efa400",
   "metadata": {},
   "outputs": [
    {
     "name": "stdout",
     "output_type": "stream",
     "text": [
      "Accuracy Score is 0.9332\n",
      "Precision Score is 0.91688\n",
      "Recall Score is 0.91688\n",
      "        0       1\n",
      "0  209991   19851\n",
      "1   10856  218986\n"
     ]
    },
    {
     "name": "stderr",
     "output_type": "stream",
     "text": [
      "C:\\Users\\USER\\miniconda3\\envs\\Bioconda\\lib\\site-packages\\sklearn\\utils\\deprecation.py:87: FutureWarning: Function plot_confusion_matrix is deprecated; Function `plot_confusion_matrix` is deprecated in 1.0 and will be removed in 1.2. Use one of the class methods: ConfusionMatrixDisplay.from_predictions or ConfusionMatrixDisplay.from_estimator.\n",
      "  warnings.warn(msg, category=FutureWarning)\n"
     ]
    },
    {
     "data": {
      "image/png": "[encoded data removed]",
      "text/plain": [
       "<Figure size 432x288 with 2 Axes>"
      ]
     },
     "metadata": {
      "needs_background": "light"
     },
     "output_type": "display_data"
    }
   ],
   "source": [
    "model = RandomForestClassifier(n_estimators=5)\n",
    "\n",
    "model.fit(X_train, y_train)\n",
    "y_predict = model.predict(X_test)\n",
    "\n",
    "print('Accuracy Score is {:.5}'.format(accuracy_score(y_test, y_predict)))\n",
    "print('Precision Score is {:.5}'.format(precision_score(y_test, y_predict)))\n",
    "print('Recall Score is {:.5}'.format(precision_score(y_test, y_predict)))\n",
    "print(pd.DataFrame(confusion_matrix(y_test,y_predict)))\n",
    "\n",
    "plot_confusion_matrix(model, X_test, y_test)  \n",
    "plt.show()\n"
   ]
  },
  {
   "cell_type": "code",
   "execution_count": 111,
   "id": "84a1be03",
   "metadata": {},
   "outputs": [
    {
     "name": "stderr",
     "output_type": "stream",
     "text": [
      "C:\\Users\\USER\\miniconda3\\envs\\Bioconda\\lib\\site-packages\\sklearn\\utils\\deprecation.py:87: FutureWarning: Function plot_roc_curve is deprecated; Function :func:`plot_roc_curve` is deprecated in 1.0 and will be removed in 1.2. Use one of the class methods: :meth:`sklearn.metric.RocCurveDisplay.from_predictions` or :meth:`sklearn.metric.RocCurveDisplay.from_estimator`.\n",
      "  warnings.warn(msg, category=FutureWarning)\n"
     ]
    },
    {
     "data": {
      "image/png": "[encoded data removed]",
      "text/plain": [
       "<Figure size 432x288 with 1 Axes>"
      ]
     },
     "metadata": {
      "needs_background": "light"
     },
     "output_type": "display_data"
    }
   ],
   "source": [
    "plot_roc_curve(model, X_test, y_test)\n",
    "plt.show()"
   ]
  },
  {
   "cell_type": "markdown",
   "id": "073a3147",
   "metadata": {},
   "source": [
    "## Model persistance"
   ]
  },
  {
   "cell_type": "code",
   "execution_count": 112,
   "id": "12d73a2f",
   "metadata": {},
   "outputs": [],
   "source": [
    "from joblib import dump, load"
   ]
  },
  {
   "cell_type": "code",
   "execution_count": 113,
   "id": "f391ecdc",
   "metadata": {
    "scrolled": true
   },
   "outputs": [
    {
     "data": {
      "text/plain": [
       "['model_risk.joblib']"
      ]
     },
     "execution_count": 113,
     "metadata": {},
     "output_type": "execute_result"
    }
   ],
   "source": [
    "# dump model\n",
    "dump(model, 'model_risk.joblib') "
   ]
  },
  {
   "cell_type": "markdown",
   "id": "5aad1f36",
   "metadata": {},
   "source": [
    "### Load model & predict"
   ]
  },
  {
   "cell_type": "code",
   "execution_count": 114,
   "id": "41d4be40",
   "metadata": {},
   "outputs": [],
   "source": [
    "my_model = load('model_risk.joblib') "
   ]
  },
  {
   "cell_type": "code",
   "execution_count": 115,
   "id": "7a6d0525",
   "metadata": {},
   "outputs": [],
   "source": [
    "# example dict 'user_id' -> features\n",
    "d = {\n",
    "    '5008804': [32, 12, 2, 119.45, 1],\n",
    "    '5008807': [29, 2, 1, 100, 0],\n",
    "    '5008910': [42, 9, 2, 147.42, 0]\n",
    "}"
   ]
  },
  {
   "cell_type": "code",
   "execution_count": 119,
   "id": "f716668c",
   "metadata": {
    "scrolled": true
   },
   "outputs": [
    {
     "name": "stderr",
     "output_type": "stream",
     "text": [
      "C:\\Users\\USER\\miniconda3\\envs\\Bioconda\\lib\\site-packages\\sklearn\\base.py:450: UserWarning: X does not have valid feature names, but RandomForestClassifier was fitted with feature names\n",
      "  warnings.warn(\n"
     ]
    }
   ],
   "source": [
    "result = my_model.predict([d['5008910']])"
   ]
  },
  {
   "cell_type": "code",
   "execution_count": 82,
   "id": "18ac04ab",
   "metadata": {},
   "outputs": [
    {
     "data": {
      "text/plain": [
       "[32, 12, 2, 119.45, 1]"
      ]
     },
     "execution_count": 82,
     "metadata": {},
     "output_type": "execute_result"
    }
   ],
   "source": [
    "d['5008804']"
   ]
  },
  {
   "cell_type": "code",
   "execution_count": 83,
   "id": "60c5def6",
   "metadata": {},
   "outputs": [
    {
     "data": {
      "text/html": [
       "<div>\n",
       "<style scoped>\n",
       "    .dataframe tbody tr th:only-of-type {\n",
       "        vertical-align: middle;\n",
       "    }\n",
       "\n",
       "    .dataframe tbody tr th {\n",
       "        vertical-align: top;\n",
       "    }\n",
       "\n",
       "    .dataframe thead th {\n",
       "        text-align: right;\n",
       "    }\n",
       "</style>\n",
       "<table border=\"1\" class=\"dataframe\">\n",
       "  <thead>\n",
       "    <tr style=\"text-align: right;\">\n",
       "      <th></th>\n",
       "      <th>age</th>\n",
       "      <th>years_on_the_job</th>\n",
       "      <th>nb_previous_loans</th>\n",
       "      <th>avg_amount_loans_previous</th>\n",
       "      <th>flag_own_car</th>\n",
       "    </tr>\n",
       "  </thead>\n",
       "  <tbody>\n",
       "    <tr>\n",
       "      <th>14503</th>\n",
       "      <td>48</td>\n",
       "      <td>21</td>\n",
       "      <td>6</td>\n",
       "      <td>144.490128</td>\n",
       "      <td>1</td>\n",
       "    </tr>\n",
       "    <tr>\n",
       "      <th>188350</th>\n",
       "      <td>58</td>\n",
       "      <td>8</td>\n",
       "      <td>10</td>\n",
       "      <td>125.747951</td>\n",
       "      <td>0</td>\n",
       "    </tr>\n",
       "    <tr>\n",
       "      <th>167457</th>\n",
       "      <td>28</td>\n",
       "      <td>7</td>\n",
       "      <td>5</td>\n",
       "      <td>141.844060</td>\n",
       "      <td>1</td>\n",
       "    </tr>\n",
       "    <tr>\n",
       "      <th>879569</th>\n",
       "      <td>36</td>\n",
       "      <td>2</td>\n",
       "      <td>11</td>\n",
       "      <td>129.541912</td>\n",
       "      <td>1</td>\n",
       "    </tr>\n",
       "    <tr>\n",
       "      <th>1273708</th>\n",
       "      <td>50</td>\n",
       "      <td>8</td>\n",
       "      <td>46</td>\n",
       "      <td>131.712475</td>\n",
       "      <td>0</td>\n",
       "    </tr>\n",
       "    <tr>\n",
       "      <th>...</th>\n",
       "      <td>...</td>\n",
       "      <td>...</td>\n",
       "      <td>...</td>\n",
       "      <td>...</td>\n",
       "      <td>...</td>\n",
       "    </tr>\n",
       "    <tr>\n",
       "      <th>694724</th>\n",
       "      <td>33</td>\n",
       "      <td>10</td>\n",
       "      <td>11</td>\n",
       "      <td>131.411232</td>\n",
       "      <td>1</td>\n",
       "    </tr>\n",
       "    <tr>\n",
       "      <th>1270988</th>\n",
       "      <td>34</td>\n",
       "      <td>2</td>\n",
       "      <td>18</td>\n",
       "      <td>131.993719</td>\n",
       "      <td>0</td>\n",
       "    </tr>\n",
       "    <tr>\n",
       "      <th>976365</th>\n",
       "      <td>42</td>\n",
       "      <td>0</td>\n",
       "      <td>6</td>\n",
       "      <td>124.684233</td>\n",
       "      <td>0</td>\n",
       "    </tr>\n",
       "    <tr>\n",
       "      <th>1365947</th>\n",
       "      <td>58</td>\n",
       "      <td>-1000</td>\n",
       "      <td>27</td>\n",
       "      <td>136.049797</td>\n",
       "      <td>0</td>\n",
       "    </tr>\n",
       "    <tr>\n",
       "      <th>385757</th>\n",
       "      <td>44</td>\n",
       "      <td>13</td>\n",
       "      <td>40</td>\n",
       "      <td>133.221972</td>\n",
       "      <td>0</td>\n",
       "    </tr>\n",
       "  </tbody>\n",
       "</table>\n",
       "<p>459684 rows × 5 columns</p>\n",
       "</div>"
      ],
      "text/plain": [
       "         age  years_on_the_job  nb_previous_loans  avg_amount_loans_previous  \\\n",
       "14503     48                21                  6                 144.490128   \n",
       "188350    58                 8                 10                 125.747951   \n",
       "167457    28                 7                  5                 141.844060   \n",
       "879569    36                 2                 11                 129.541912   \n",
       "1273708   50                 8                 46                 131.712475   \n",
       "...      ...               ...                ...                        ...   \n",
       "694724    33                10                 11                 131.411232   \n",
       "1270988   34                 2                 18                 131.993719   \n",
       "976365    42                 0                  6                 124.684233   \n",
       "1365947   58             -1000                 27                 136.049797   \n",
       "385757    44                13                 40                 133.221972   \n",
       "\n",
       "         flag_own_car  \n",
       "14503               1  \n",
       "188350              0  \n",
       "167457              1  \n",
       "879569              1  \n",
       "1273708             0  \n",
       "...               ...  \n",
       "694724              1  \n",
       "1270988             0  \n",
       "976365              0  \n",
       "1365947             0  \n",
       "385757              0  \n",
       "\n",
       "[459684 rows x 5 columns]"
      ]
     },
     "execution_count": 83,
     "metadata": {},
     "output_type": "execute_result"
    }
   ],
   "source": [
    "X_test"
   ]
  },
  {
   "cell_type": "code",
   "execution_count": 120,
   "id": "c02e755a",
   "metadata": {},
   "outputs": [
    {
     "name": "stdout",
     "output_type": "stream",
     "text": [
      "[1]\n"
     ]
    }
   ],
   "source": [
    "print(result)"
   ]
  },
  {
   "cell_type": "code",
   "execution_count": 89,
   "id": "74cbffdf",
   "metadata": {},
   "outputs": [
    {
     "data": {
      "text/plain": [
       "array([0, 0, 0, ..., 1, 1, 0])"
      ]
     },
     "execution_count": 89,
     "metadata": {},
     "output_type": "execute_result"
    }
   ],
   "source": [
    "y_predict"
   ]
  },
  {
   "cell_type": "code",
   "execution_count": null,
   "id": "b6b5219c",
   "metadata": {},
   "outputs": [],
   "source": []
  }
 ],
 "metadata": {
  "kernelspec": {
   "display_name": "Python 3 (ipykernel)",
   "language": "python",
   "name": "python3"
  },
  "language_info": {
   "codemirror_mode": {
    "name": "ipython",
    "version": 3
   },
   "file_extension": ".py",
   "mimetype": "text/x-python",
   "name": "python",
   "nbconvert_exporter": "python",
   "pygments_lexer": "ipython3",
   "version": "3.9.6"
  }
 },
 "nbformat": 4,
 "nbformat_minor": 5
}
